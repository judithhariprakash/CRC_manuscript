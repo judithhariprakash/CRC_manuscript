{
 "cells": [
  {
   "cell_type": "code",
   "execution_count": 1,
   "id": "c5cf1a1e",
   "metadata": {},
   "outputs": [],
   "source": [
    "import pandas as pd\n",
    "from tqdm import tqdm \n",
    "import seaborn as sns\n",
    "import matplotlib.pyplot as plt\n",
    "import numpy as np\n",
    "from scipy.stats import f_oneway"
   ]
  },
  {
   "cell_type": "code",
   "execution_count": 2,
   "id": "ccc754e5",
   "metadata": {},
   "outputs": [
    {
     "name": "stdout",
     "output_type": "stream",
     "text": [
      "/mnt/Sdrive/SCI-BIO-BRSDriveCircularVision/Judith/Projects/CRC/AmpliconArchitect/DH_AAresults\n"
     ]
    }
   ],
   "source": [
    "cd /mnt/Sdrive/SCI-BIO-BRSDriveCircularVision/Judith/Projects/CRC/AmpliconArchitect/DH_AAresults/"
   ]
  },
  {
   "cell_type": "code",
   "execution_count": 3,
   "id": "35f22b35",
   "metadata": {},
   "outputs": [],
   "source": [
    "df = pd.read_csv('CRCtx.allgene.txt',sep='\\t')"
   ]
  },
  {
   "cell_type": "code",
   "execution_count": 4,
   "id": "2caf5604",
   "metadata": {},
   "outputs": [],
   "source": [
    "ft = df['feature'].unique()"
   ]
  },
  {
   "cell_type": "code",
   "execution_count": 5,
   "id": "7e45b12c",
   "metadata": {},
   "outputs": [],
   "source": [
    "zscore = pd.read_csv('/mnt/Sdrive/SCI-BIO-BRSDriveCircularVision/Judith/Projects/CRC/RNA_Seq/Results/Geneexpression_zscorematrix.csv',sep='\\t',index_col=0)"
   ]
  },
  {
   "cell_type": "code",
   "execution_count": 6,
   "id": "ba737cdf",
   "metadata": {},
   "outputs": [],
   "source": [
    "zscore=zscore.fillna(0)"
   ]
  },
  {
   "cell_type": "code",
   "execution_count": 7,
   "id": "107a8fcd",
   "metadata": {},
   "outputs": [
    {
     "data": {
      "text/html": [
       "<div>\n",
       "<style scoped>\n",
       "    .dataframe tbody tr th:only-of-type {\n",
       "        vertical-align: middle;\n",
       "    }\n",
       "\n",
       "    .dataframe tbody tr th {\n",
       "        vertical-align: top;\n",
       "    }\n",
       "\n",
       "    .dataframe thead th {\n",
       "        text-align: right;\n",
       "    }\n",
       "</style>\n",
       "<table border=\"1\" class=\"dataframe\">\n",
       "  <thead>\n",
       "    <tr style=\"text-align: right;\">\n",
       "      <th></th>\n",
       "      <th>sample_name</th>\n",
       "      <th>amplicon_number</th>\n",
       "      <th>feature</th>\n",
       "      <th>gene</th>\n",
       "      <th>gene_cn</th>\n",
       "      <th>truncated</th>\n",
       "      <th>is_canonical_oncogene</th>\n",
       "    </tr>\n",
       "  </thead>\n",
       "  <tbody>\n",
       "    <tr>\n",
       "      <th>0</th>\n",
       "      <td>CRCtx021</td>\n",
       "      <td>amplicon12</td>\n",
       "      <td>Complex non-cyclic_1</td>\n",
       "      <td>FAM242B</td>\n",
       "      <td>6.620864</td>\n",
       "      <td>NaN</td>\n",
       "      <td>False</td>\n",
       "    </tr>\n",
       "    <tr>\n",
       "      <th>1</th>\n",
       "      <td>CRCtx021</td>\n",
       "      <td>amplicon12</td>\n",
       "      <td>Complex non-cyclic_1</td>\n",
       "      <td>FRG1BP</td>\n",
       "      <td>5.933497</td>\n",
       "      <td>NaN</td>\n",
       "      <td>False</td>\n",
       "    </tr>\n",
       "    <tr>\n",
       "      <th>2</th>\n",
       "      <td>CRCtx021</td>\n",
       "      <td>amplicon12</td>\n",
       "      <td>Complex non-cyclic_1</td>\n",
       "      <td>FRG1CP</td>\n",
       "      <td>5.358745</td>\n",
       "      <td>NaN</td>\n",
       "      <td>False</td>\n",
       "    </tr>\n",
       "    <tr>\n",
       "      <th>3</th>\n",
       "      <td>CRCtx021</td>\n",
       "      <td>amplicon12</td>\n",
       "      <td>Complex non-cyclic_1</td>\n",
       "      <td>FRG1DP</td>\n",
       "      <td>5.923681</td>\n",
       "      <td>NaN</td>\n",
       "      <td>False</td>\n",
       "    </tr>\n",
       "    <tr>\n",
       "      <th>4</th>\n",
       "      <td>CRCtx021</td>\n",
       "      <td>amplicon12</td>\n",
       "      <td>Complex non-cyclic_1</td>\n",
       "      <td>FRG1EP</td>\n",
       "      <td>5.921619</td>\n",
       "      <td>NaN</td>\n",
       "      <td>False</td>\n",
       "    </tr>\n",
       "    <tr>\n",
       "      <th>...</th>\n",
       "      <td>...</td>\n",
       "      <td>...</td>\n",
       "      <td>...</td>\n",
       "      <td>...</td>\n",
       "      <td>...</td>\n",
       "      <td>...</td>\n",
       "      <td>...</td>\n",
       "    </tr>\n",
       "    <tr>\n",
       "      <th>686</th>\n",
       "      <td>CRCtx055</td>\n",
       "      <td>amplicon18</td>\n",
       "      <td>Linear amplification_1</td>\n",
       "      <td>DBET</td>\n",
       "      <td>16.955724</td>\n",
       "      <td>NaN</td>\n",
       "      <td>False</td>\n",
       "    </tr>\n",
       "    <tr>\n",
       "      <th>687</th>\n",
       "      <td>CRCtx055</td>\n",
       "      <td>amplicon18</td>\n",
       "      <td>Linear amplification_1</td>\n",
       "      <td>DUX4</td>\n",
       "      <td>16.955724</td>\n",
       "      <td>NaN</td>\n",
       "      <td>True</td>\n",
       "    </tr>\n",
       "    <tr>\n",
       "      <th>688</th>\n",
       "      <td>CRCtx055</td>\n",
       "      <td>amplicon22</td>\n",
       "      <td>Linear amplification_1</td>\n",
       "      <td>REXO1L2P</td>\n",
       "      <td>11.604354</td>\n",
       "      <td>NaN</td>\n",
       "      <td>False</td>\n",
       "    </tr>\n",
       "    <tr>\n",
       "      <th>689</th>\n",
       "      <td>CRCtx055</td>\n",
       "      <td>amplicon23</td>\n",
       "      <td>Linear amplification_1</td>\n",
       "      <td>LERFS</td>\n",
       "      <td>6.711175</td>\n",
       "      <td>5p</td>\n",
       "      <td>False</td>\n",
       "    </tr>\n",
       "    <tr>\n",
       "      <th>690</th>\n",
       "      <td>CRCtx055</td>\n",
       "      <td>amplicon23</td>\n",
       "      <td>Linear amplification_1</td>\n",
       "      <td>PTGER4P2-CDK2AP2P2</td>\n",
       "      <td>6.711175</td>\n",
       "      <td>NaN</td>\n",
       "      <td>False</td>\n",
       "    </tr>\n",
       "  </tbody>\n",
       "</table>\n",
       "<p>691 rows × 7 columns</p>\n",
       "</div>"
      ],
      "text/plain": [
       "    sample_name amplicon_number                 feature                gene  \\\n",
       "0      CRCtx021      amplicon12    Complex non-cyclic_1             FAM242B   \n",
       "1      CRCtx021      amplicon12    Complex non-cyclic_1              FRG1BP   \n",
       "2      CRCtx021      amplicon12    Complex non-cyclic_1              FRG1CP   \n",
       "3      CRCtx021      amplicon12    Complex non-cyclic_1              FRG1DP   \n",
       "4      CRCtx021      amplicon12    Complex non-cyclic_1              FRG1EP   \n",
       "..          ...             ...                     ...                 ...   \n",
       "686    CRCtx055      amplicon18  Linear amplification_1                DBET   \n",
       "687    CRCtx055      amplicon18  Linear amplification_1                DUX4   \n",
       "688    CRCtx055      amplicon22  Linear amplification_1            REXO1L2P   \n",
       "689    CRCtx055      amplicon23  Linear amplification_1               LERFS   \n",
       "690    CRCtx055      amplicon23  Linear amplification_1  PTGER4P2-CDK2AP2P2   \n",
       "\n",
       "       gene_cn truncated  is_canonical_oncogene  \n",
       "0     6.620864       NaN                  False  \n",
       "1     5.933497       NaN                  False  \n",
       "2     5.358745       NaN                  False  \n",
       "3     5.923681       NaN                  False  \n",
       "4     5.921619       NaN                  False  \n",
       "..         ...       ...                    ...  \n",
       "686  16.955724       NaN                  False  \n",
       "687  16.955724       NaN                   True  \n",
       "688  11.604354       NaN                  False  \n",
       "689   6.711175        5p                  False  \n",
       "690   6.711175       NaN                  False  \n",
       "\n",
       "[691 rows x 7 columns]"
      ]
     },
     "execution_count": 7,
     "metadata": {},
     "output_type": "execute_result"
    }
   ],
   "source": [
    "df"
   ]
  },
  {
   "cell_type": "code",
   "execution_count": 8,
   "id": "b7c0e62b",
   "metadata": {},
   "outputs": [],
   "source": [
    "ge = {}\n",
    "for i in ft:\n",
    "    if i !='Complex non-cyclic_1':\n",
    "        ge[i] = []\n",
    "        df1 = df[df.feature==i]\n",
    "        for m in df1.index:\n",
    "            s = df1.loc[m,'sample_name']\n",
    "            g = df1.loc[m,'gene']\n",
    "            if g in zscore.index:\n",
    "                ge[i].extend([zscore.loc[g,s]])\n"
   ]
  },
  {
   "cell_type": "code",
   "execution_count": 10,
   "id": "849dbeab",
   "metadata": {},
   "outputs": [],
   "source": [
    "df2 = pd.read_csv('/mnt/Sdrive/SCI-BIO-BRSDriveCircularVision/Judith/Projects/CRC/eccDNA/Filt_CRCTumourTissue_Fullgenes2_WithGeneSymbol_only.bed',sep='\\t',header=None)"
   ]
  },
  {
   "cell_type": "code",
   "execution_count": 11,
   "id": "8bfdc6d7",
   "metadata": {},
   "outputs": [],
   "source": [
    "df2 = df2[[0,1,2,4,12]]"
   ]
  },
  {
   "cell_type": "code",
   "execution_count": 12,
   "id": "dd74eb40",
   "metadata": {},
   "outputs": [],
   "source": [
    "df2.columns = ['chrom','start','end','sample','gene']"
   ]
  },
  {
   "cell_type": "code",
   "execution_count": 13,
   "id": "8c7d2744",
   "metadata": {},
   "outputs": [
    {
     "data": {
      "text/plain": [
       "array(['CRCtx021', 'CRCtx026', 'CRCtx027', 'CRCtx028', 'CRCtx029',\n",
       "       'CRCtx033', 'CRCtx036', 'CRCtx040', 'CRCtx047', 'CRCtx053',\n",
       "       'CRCtx054', 'CRCtx055'], dtype=object)"
      ]
     },
     "execution_count": 13,
     "metadata": {},
     "output_type": "execute_result"
    }
   ],
   "source": [
    "df.sample_name.unique()"
   ]
  },
  {
   "cell_type": "code",
   "execution_count": 14,
   "id": "e94830a3",
   "metadata": {},
   "outputs": [],
   "source": [
    "si = ['CRCtx021', 'CRCtx026', 'CRCtx027', 'CRCtx028', 'CRCtx029',\n",
    "       'CRCtx033', 'CRCtx036', 'CRCtx040', 'CRCtx047', 'CRCtx053',\n",
    "       'CRCtx054', 'CRCtx055']\n",
    "sample_gene = []\n",
    "for i in df2.index:\n",
    "    ss = (df2.loc[i,'sample'].replace('-','x'))\n",
    "    if ss in si:\n",
    "        sample_gene.append('-'.join((ss,df2.loc[i,'gene'])))"
   ]
  },
  {
   "cell_type": "code",
   "execution_count": 16,
   "id": "66b85972",
   "metadata": {},
   "outputs": [],
   "source": [
    "ge['eccDNA'] = []\n",
    "for m in sample_gene:\n",
    "    s = m.split('-')[0]\n",
    "    g = m.split('-')[1]\n",
    "    if g in zscore.index:\n",
    "        ge['eccDNA'].extend([zscore.loc[g,s]])\n"
   ]
  },
  {
   "cell_type": "code",
   "execution_count": 17,
   "id": "e91c4753",
   "metadata": {},
   "outputs": [
    {
     "name": "stdout",
     "output_type": "stream",
     "text": [
      "Linear amplification_1 346\n",
      "ecDNA_1 19\n",
      "eccDNA 34850\n"
     ]
    }
   ],
   "source": [
    "for i in ge:\n",
    "    print (i, len(ge[i]))"
   ]
  },
  {
   "cell_type": "code",
   "execution_count": 18,
   "id": "0c093d65",
   "metadata": {},
   "outputs": [],
   "source": [
    "dftest = pd.DataFrame.from_dict(ge, orient='index')"
   ]
  },
  {
   "cell_type": "code",
   "execution_count": 19,
   "id": "4dbfa4b2",
   "metadata": {},
   "outputs": [],
   "source": [
    "dftest.index.rename('Types', inplace=True)"
   ]
  },
  {
   "cell_type": "code",
   "execution_count": 20,
   "id": "61c130ad",
   "metadata": {},
   "outputs": [],
   "source": [
    "dftest =dftest.reindex(['eccDNA','ecDNA_1','Linear amplification_1'])"
   ]
  },
  {
   "cell_type": "code",
   "execution_count": 21,
   "id": "319c645f",
   "metadata": {},
   "outputs": [],
   "source": [
    "stacked = dftest.stack().reset_index()\n",
    "stacked.rename(columns={'level_1': 'Person', 0: 'Value'}, inplace=True)"
   ]
  },
  {
   "cell_type": "code",
   "execution_count": 22,
   "id": "dbf7e14f",
   "metadata": {},
   "outputs": [
    {
     "data": {
      "text/html": [
       "<div>\n",
       "<style scoped>\n",
       "    .dataframe tbody tr th:only-of-type {\n",
       "        vertical-align: middle;\n",
       "    }\n",
       "\n",
       "    .dataframe tbody tr th {\n",
       "        vertical-align: top;\n",
       "    }\n",
       "\n",
       "    .dataframe thead th {\n",
       "        text-align: right;\n",
       "    }\n",
       "</style>\n",
       "<table border=\"1\" class=\"dataframe\">\n",
       "  <thead>\n",
       "    <tr style=\"text-align: right;\">\n",
       "      <th></th>\n",
       "      <th>0</th>\n",
       "      <th>1</th>\n",
       "      <th>2</th>\n",
       "      <th>3</th>\n",
       "      <th>4</th>\n",
       "      <th>5</th>\n",
       "      <th>6</th>\n",
       "      <th>7</th>\n",
       "      <th>8</th>\n",
       "      <th>9</th>\n",
       "      <th>...</th>\n",
       "      <th>34840</th>\n",
       "      <th>34841</th>\n",
       "      <th>34842</th>\n",
       "      <th>34843</th>\n",
       "      <th>34844</th>\n",
       "      <th>34845</th>\n",
       "      <th>34846</th>\n",
       "      <th>34847</th>\n",
       "      <th>34848</th>\n",
       "      <th>34849</th>\n",
       "    </tr>\n",
       "    <tr>\n",
       "      <th>Types</th>\n",
       "      <th></th>\n",
       "      <th></th>\n",
       "      <th></th>\n",
       "      <th></th>\n",
       "      <th></th>\n",
       "      <th></th>\n",
       "      <th></th>\n",
       "      <th></th>\n",
       "      <th></th>\n",
       "      <th></th>\n",
       "      <th></th>\n",
       "      <th></th>\n",
       "      <th></th>\n",
       "      <th></th>\n",
       "      <th></th>\n",
       "      <th></th>\n",
       "      <th></th>\n",
       "      <th></th>\n",
       "      <th></th>\n",
       "      <th></th>\n",
       "      <th></th>\n",
       "    </tr>\n",
       "  </thead>\n",
       "  <tbody>\n",
       "    <tr>\n",
       "      <th>eccDNA</th>\n",
       "      <td>-1.224385</td>\n",
       "      <td>-1.148957</td>\n",
       "      <td>-0.957816</td>\n",
       "      <td>-1.097830</td>\n",
       "      <td>-1.465590</td>\n",
       "      <td>-1.532217</td>\n",
       "      <td>-0.788605</td>\n",
       "      <td>-0.555730</td>\n",
       "      <td>-0.429093</td>\n",
       "      <td>-0.789744</td>\n",
       "      <td>...</td>\n",
       "      <td>0.446384</td>\n",
       "      <td>-0.977777</td>\n",
       "      <td>0.363065</td>\n",
       "      <td>-0.423823</td>\n",
       "      <td>-0.336965</td>\n",
       "      <td>0.0</td>\n",
       "      <td>0.531045</td>\n",
       "      <td>-0.497966</td>\n",
       "      <td>-0.520075</td>\n",
       "      <td>-0.293972</td>\n",
       "    </tr>\n",
       "    <tr>\n",
       "      <th>ecDNA_1</th>\n",
       "      <td>0.125665</td>\n",
       "      <td>0.957130</td>\n",
       "      <td>0.486874</td>\n",
       "      <td>1.278161</td>\n",
       "      <td>4.898979</td>\n",
       "      <td>-0.711364</td>\n",
       "      <td>4.118667</td>\n",
       "      <td>1.553497</td>\n",
       "      <td>1.965093</td>\n",
       "      <td>-0.314492</td>\n",
       "      <td>...</td>\n",
       "      <td>NaN</td>\n",
       "      <td>NaN</td>\n",
       "      <td>NaN</td>\n",
       "      <td>NaN</td>\n",
       "      <td>NaN</td>\n",
       "      <td>NaN</td>\n",
       "      <td>NaN</td>\n",
       "      <td>NaN</td>\n",
       "      <td>NaN</td>\n",
       "      <td>NaN</td>\n",
       "    </tr>\n",
       "    <tr>\n",
       "      <th>Linear amplification_1</th>\n",
       "      <td>0.408396</td>\n",
       "      <td>-0.966120</td>\n",
       "      <td>0.250011</td>\n",
       "      <td>0.194737</td>\n",
       "      <td>1.225607</td>\n",
       "      <td>-0.292585</td>\n",
       "      <td>-0.965246</td>\n",
       "      <td>-0.612223</td>\n",
       "      <td>-1.219944</td>\n",
       "      <td>-0.571981</td>\n",
       "      <td>...</td>\n",
       "      <td>NaN</td>\n",
       "      <td>NaN</td>\n",
       "      <td>NaN</td>\n",
       "      <td>NaN</td>\n",
       "      <td>NaN</td>\n",
       "      <td>NaN</td>\n",
       "      <td>NaN</td>\n",
       "      <td>NaN</td>\n",
       "      <td>NaN</td>\n",
       "      <td>NaN</td>\n",
       "    </tr>\n",
       "  </tbody>\n",
       "</table>\n",
       "<p>3 rows × 34850 columns</p>\n",
       "</div>"
      ],
      "text/plain": [
       "                           0         1         2         3         4      \\\n",
       "Types                                                                      \n",
       "eccDNA                 -1.224385 -1.148957 -0.957816 -1.097830 -1.465590   \n",
       "ecDNA_1                 0.125665  0.957130  0.486874  1.278161  4.898979   \n",
       "Linear amplification_1  0.408396 -0.966120  0.250011  0.194737  1.225607   \n",
       "\n",
       "                           5         6         7         8         9      ...  \\\n",
       "Types                                                                     ...   \n",
       "eccDNA                 -1.532217 -0.788605 -0.555730 -0.429093 -0.789744  ...   \n",
       "ecDNA_1                -0.711364  4.118667  1.553497  1.965093 -0.314492  ...   \n",
       "Linear amplification_1 -0.292585 -0.965246 -0.612223 -1.219944 -0.571981  ...   \n",
       "\n",
       "                           34840     34841     34842     34843     34844  \\\n",
       "Types                                                                      \n",
       "eccDNA                  0.446384 -0.977777  0.363065 -0.423823 -0.336965   \n",
       "ecDNA_1                      NaN       NaN       NaN       NaN       NaN   \n",
       "Linear amplification_1       NaN       NaN       NaN       NaN       NaN   \n",
       "\n",
       "                        34845     34846     34847     34848     34849  \n",
       "Types                                                                  \n",
       "eccDNA                    0.0  0.531045 -0.497966 -0.520075 -0.293972  \n",
       "ecDNA_1                   NaN       NaN       NaN       NaN       NaN  \n",
       "Linear amplification_1    NaN       NaN       NaN       NaN       NaN  \n",
       "\n",
       "[3 rows x 34850 columns]"
      ]
     },
     "execution_count": 22,
     "metadata": {},
     "output_type": "execute_result"
    }
   ],
   "source": [
    "dftest"
   ]
  },
  {
   "cell_type": "code",
   "execution_count": 23,
   "id": "4277408f",
   "metadata": {},
   "outputs": [],
   "source": [
    "cmap = ['#ef767a','#456990','#49beaa','#9A7085']"
   ]
  },
  {
   "cell_type": "code",
   "execution_count": 25,
   "id": "70a6e1d2",
   "metadata": {
    "scrolled": false
   },
   "outputs": [
    {
     "name": "stderr",
     "output_type": "stream",
     "text": [
      "/home/judith/anaconda3/lib/python3.11/site-packages/seaborn/_oldcore.py:1498: FutureWarning: is_categorical_dtype is deprecated and will be removed in a future version. Use isinstance(dtype, CategoricalDtype) instead\n",
      "  if pd.api.types.is_categorical_dtype(vector):\n",
      "/home/judith/anaconda3/lib/python3.11/site-packages/seaborn/_oldcore.py:1498: FutureWarning: is_categorical_dtype is deprecated and will be removed in a future version. Use isinstance(dtype, CategoricalDtype) instead\n",
      "  if pd.api.types.is_categorical_dtype(vector):\n",
      "/home/judith/anaconda3/lib/python3.11/site-packages/seaborn/_oldcore.py:1498: FutureWarning: is_categorical_dtype is deprecated and will be removed in a future version. Use isinstance(dtype, CategoricalDtype) instead\n",
      "  if pd.api.types.is_categorical_dtype(vector):\n",
      "/home/judith/anaconda3/lib/python3.11/site-packages/seaborn/_oldcore.py:1498: FutureWarning: is_categorical_dtype is deprecated and will be removed in a future version. Use isinstance(dtype, CategoricalDtype) instead\n",
      "  if pd.api.types.is_categorical_dtype(vector):\n",
      "/home/judith/anaconda3/lib/python3.11/site-packages/seaborn/_oldcore.py:1498: FutureWarning: is_categorical_dtype is deprecated and will be removed in a future version. Use isinstance(dtype, CategoricalDtype) instead\n",
      "  if pd.api.types.is_categorical_dtype(vector):\n",
      "/home/judith/anaconda3/lib/python3.11/site-packages/seaborn/_oldcore.py:1498: FutureWarning: is_categorical_dtype is deprecated and will be removed in a future version. Use isinstance(dtype, CategoricalDtype) instead\n",
      "  if pd.api.types.is_categorical_dtype(vector):\n",
      "/home/judith/anaconda3/lib/python3.11/site-packages/seaborn/_oldcore.py:1498: FutureWarning: is_categorical_dtype is deprecated and will be removed in a future version. Use isinstance(dtype, CategoricalDtype) instead\n",
      "  if pd.api.types.is_categorical_dtype(vector):\n",
      "/home/judith/anaconda3/lib/python3.11/site-packages/seaborn/_oldcore.py:1498: FutureWarning: is_categorical_dtype is deprecated and will be removed in a future version. Use isinstance(dtype, CategoricalDtype) instead\n",
      "  if pd.api.types.is_categorical_dtype(vector):\n",
      "/home/judith/anaconda3/lib/python3.11/site-packages/seaborn/_oldcore.py:1498: FutureWarning: is_categorical_dtype is deprecated and will be removed in a future version. Use isinstance(dtype, CategoricalDtype) instead\n",
      "  if pd.api.types.is_categorical_dtype(vector):\n",
      "/home/judith/anaconda3/lib/python3.11/site-packages/seaborn/_oldcore.py:1498: FutureWarning: is_categorical_dtype is deprecated and will be removed in a future version. Use isinstance(dtype, CategoricalDtype) instead\n",
      "  if pd.api.types.is_categorical_dtype(vector):\n",
      "/tmp/ipykernel_1219/2684589161.py:6: FutureWarning: Passing `palette` without assigning `hue` is deprecated.\n",
      "  ax = sns.stripplot(data= stacked, x='Types', y='Value',palette=cmap,alpha=0.8,jitter=0.2,size=2.8)\n",
      "/tmp/ipykernel_1219/2684589161.py:6: UserWarning: The palette list has more values (4) than needed (3), which may not be intended.\n",
      "  ax = sns.stripplot(data= stacked, x='Types', y='Value',palette=cmap,alpha=0.8,jitter=0.2,size=2.8)\n",
      "/home/judith/anaconda3/lib/python3.11/site-packages/seaborn/_oldcore.py:1119: FutureWarning: use_inf_as_na option is deprecated and will be removed in a future version. Convert inf values to NaN before operating instead.\n",
      "  with pd.option_context('mode.use_inf_as_na', True):\n",
      "/home/judith/anaconda3/lib/python3.11/site-packages/seaborn/_oldcore.py:1119: FutureWarning: use_inf_as_na option is deprecated and will be removed in a future version. Convert inf values to NaN before operating instead.\n",
      "  with pd.option_context('mode.use_inf_as_na', True):\n"
     ]
    },
    {
     "data": {
      "image/png": "[encoded data removed]",
      "text/plain": [
       "<Figure size 500x300 with 1 Axes>"
      ]
     },
     "metadata": {},
     "output_type": "display_data"
    }
   ],
   "source": [
    "fig, ax = plt.subplots(1, 1, figsize=(5,3))\n",
    "# plt.subplots_adjust(left=0.3, right=0.9, bottom=0.3, top=0.9)\n",
    "ax.spines['top'].set_visible(False)\n",
    "ax.spines['right'].set_visible(False)\n",
    "ax =sns.violinplot(data=stacked, x='Types', y='Value', color='white',alpha=0.5,cut=0,linewidth=0.5 )\n",
    "ax = sns.stripplot(data= stacked, x='Types', y='Value',palette=cmap,alpha=0.8,jitter=0.2,size=2.8)\n",
    "#plt.savefig('zscore_eccDNA_ecDNA_linearDNA_correctednumbers_allgenes.pdf')\n",
    "plt.show()"
   ]
  },
  {
   "cell_type": "code",
   "execution_count": null,
   "id": "002f755f",
   "metadata": {},
   "outputs": [],
   "source": [
    "p_values = sp.posthoc_dunn([ge['Linear amplification_1'], ge['ecDNA_1'],ge['eccDNA']], p_adjust='holm')\n"
   ]
  },
  {
   "cell_type": "code",
   "execution_count": null,
   "id": "c0108ef2",
   "metadata": {},
   "outputs": [],
   "source": [
    "p_values"
   ]
  },
  {
   "cell_type": "code",
   "execution_count": null,
   "id": "c2892d5f",
   "metadata": {},
   "outputs": [],
   "source": [
    "print(p_values <0.05)"
   ]
  },
  {
   "cell_type": "code",
   "execution_count": null,
   "id": "2b72ff5b",
   "metadata": {},
   "outputs": [],
   "source": [
    "dftest.loc['eccDNA'].max()"
   ]
  },
  {
   "cell_type": "code",
   "execution_count": null,
   "id": "e012ab19",
   "metadata": {},
   "outputs": [],
   "source": [
    "dftest.loc['ecDNA_1'].max()"
   ]
  },
  {
   "cell_type": "code",
   "execution_count": null,
   "id": "a4a56b3c",
   "metadata": {},
   "outputs": [],
   "source": [
    "ecDnage = df2['gene'].unique()"
   ]
  }
 ],
 "metadata": {
  "kernelspec": {
   "display_name": "Python 3 (ipykernel)",
   "language": "python",
   "name": "python3"
  },
  "language_info": {
   "codemirror_mode": {
    "name": "ipython",
    "version": 3
   },
   "file_extension": ".py",
   "mimetype": "text/x-python",
   "name": "python",
   "nbconvert_exporter": "python",
   "pygments_lexer": "ipython3",
   "version": "3.11.5"
  }
 },
 "nbformat": 4,
 "nbformat_minor": 5
}
