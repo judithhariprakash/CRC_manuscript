{
 "cells": [
  {
   "cell_type": "raw",
   "id": "4b75c501",
   "metadata": {},
   "source": [
    "Size distribution of eccDNA in TT_all and NAT\n",
    "# 15.3.24\n",
    "# @author: Judith Hariprakash"
   ]
  },
  {
   "cell_type": "code",
   "execution_count": 1,
   "id": "1bd3fa1e",
   "metadata": {},
   "outputs": [
    {
     "name": "stdout",
     "output_type": "stream",
     "text": [
      "/mnt/Sdrive/SCI-BIO-BRSDriveCircularVision/Judith/Projects/CRC\n"
     ]
    }
   ],
   "source": [
    "cd /mnt/Sdrive/SCI-BIO-BRSDriveCircularVision/Judith/Projects/CRC/"
   ]
  },
  {
   "cell_type": "code",
   "execution_count": 2,
   "id": "25f0df64",
   "metadata": {},
   "outputs": [],
   "source": [
    "import pandas as pd\n",
    "import matplotlib.pyplot as plt\n",
    "import numpy as np\n",
    "import seaborn as sns"
   ]
  },
  {
   "cell_type": "code",
   "execution_count": 3,
   "id": "e88c5316",
   "metadata": {},
   "outputs": [],
   "source": [
    "TT = pd.read_csv('eccDNA/Filt_Correl_CollectedCircles_CRCTumourTissue.bed',sep='\\t',header=None)"
   ]
  },
  {
   "cell_type": "code",
   "execution_count": 4,
   "id": "0ea2796c",
   "metadata": {},
   "outputs": [],
   "source": [
    "NAT = pd.read_csv('eccDNA/Filt_Correl_CollectedCircles_CRCNormalTissue.bed',sep='\\t',header=None)"
   ]
  },
  {
   "cell_type": "code",
   "execution_count": 5,
   "id": "b4f94eb4",
   "metadata": {},
   "outputs": [],
   "source": [
    "TT.columns = ['Chromosome','Start','End','Length','Origin']\n",
    "NAT.columns = ['Chromosome','Start','End','Length','Origin']"
   ]
  },
  {
   "cell_type": "code",
   "execution_count": 6,
   "id": "fe4b7787",
   "metadata": {},
   "outputs": [],
   "source": [
    "TT =TT.sort_values(by='Length')\n",
    "NAT =NAT.sort_values(by='Length')"
   ]
  },
  {
   "cell_type": "code",
   "execution_count": 9,
   "id": "bf8148c6",
   "metadata": {},
   "outputs": [
    {
     "data": {
      "text/html": [
       "<div>\n",
       "<style scoped>\n",
       "    .dataframe tbody tr th:only-of-type {\n",
       "        vertical-align: middle;\n",
       "    }\n",
       "\n",
       "    .dataframe tbody tr th {\n",
       "        vertical-align: top;\n",
       "    }\n",
       "\n",
       "    .dataframe thead th {\n",
       "        text-align: right;\n",
       "    }\n",
       "</style>\n",
       "<table border=\"1\" class=\"dataframe\">\n",
       "  <thead>\n",
       "    <tr style=\"text-align: right;\">\n",
       "      <th></th>\n",
       "      <th>Start</th>\n",
       "      <th>End</th>\n",
       "      <th>Length</th>\n",
       "    </tr>\n",
       "  </thead>\n",
       "  <tbody>\n",
       "    <tr>\n",
       "      <th>count</th>\n",
       "      <td>1.246038e+07</td>\n",
       "      <td>1.246038e+07</td>\n",
       "      <td>1.246038e+07</td>\n",
       "    </tr>\n",
       "    <tr>\n",
       "      <th>mean</th>\n",
       "      <td>8.293100e+07</td>\n",
       "      <td>8.293358e+07</td>\n",
       "      <td>2.578396e+03</td>\n",
       "    </tr>\n",
       "    <tr>\n",
       "      <th>std</th>\n",
       "      <td>5.480984e+07</td>\n",
       "      <td>5.480988e+07</td>\n",
       "      <td>6.512491e+04</td>\n",
       "    </tr>\n",
       "    <tr>\n",
       "      <th>min</th>\n",
       "      <td>1.076000e+04</td>\n",
       "      <td>1.182900e+04</td>\n",
       "      <td>5.000000e+01</td>\n",
       "    </tr>\n",
       "    <tr>\n",
       "      <th>25%</th>\n",
       "      <td>3.788576e+07</td>\n",
       "      <td>3.788839e+07</td>\n",
       "      <td>7.300000e+02</td>\n",
       "    </tr>\n",
       "    <tr>\n",
       "      <th>50%</th>\n",
       "      <td>7.572174e+07</td>\n",
       "      <td>7.572429e+07</td>\n",
       "      <td>1.279000e+03</td>\n",
       "    </tr>\n",
       "    <tr>\n",
       "      <th>75%</th>\n",
       "      <td>1.177127e+08</td>\n",
       "      <td>1.177154e+08</td>\n",
       "      <td>2.278000e+03</td>\n",
       "    </tr>\n",
       "    <tr>\n",
       "      <th>max</th>\n",
       "      <td>2.489386e+08</td>\n",
       "      <td>2.489394e+08</td>\n",
       "      <td>3.183130e+07</td>\n",
       "    </tr>\n",
       "  </tbody>\n",
       "</table>\n",
       "</div>"
      ],
      "text/plain": [
       "              Start           End        Length\n",
       "count  1.246038e+07  1.246038e+07  1.246038e+07\n",
       "mean   8.293100e+07  8.293358e+07  2.578396e+03\n",
       "std    5.480984e+07  5.480988e+07  6.512491e+04\n",
       "min    1.076000e+04  1.182900e+04  5.000000e+01\n",
       "25%    3.788576e+07  3.788839e+07  7.300000e+02\n",
       "50%    7.572174e+07  7.572429e+07  1.279000e+03\n",
       "75%    1.177127e+08  1.177154e+08  2.278000e+03\n",
       "max    2.489386e+08  2.489394e+08  3.183130e+07"
      ]
     },
     "execution_count": 9,
     "metadata": {},
     "output_type": "execute_result"
    }
   ],
   "source": [
    "TT.describe()"
   ]
  },
  {
   "cell_type": "code",
   "execution_count": 10,
   "id": "1d195329",
   "metadata": {},
   "outputs": [
    {
     "data": {
      "text/html": [
       "<div>\n",
       "<style scoped>\n",
       "    .dataframe tbody tr th:only-of-type {\n",
       "        vertical-align: middle;\n",
       "    }\n",
       "\n",
       "    .dataframe tbody tr th {\n",
       "        vertical-align: top;\n",
       "    }\n",
       "\n",
       "    .dataframe thead th {\n",
       "        text-align: right;\n",
       "    }\n",
       "</style>\n",
       "<table border=\"1\" class=\"dataframe\">\n",
       "  <thead>\n",
       "    <tr style=\"text-align: right;\">\n",
       "      <th></th>\n",
       "      <th>Start</th>\n",
       "      <th>End</th>\n",
       "      <th>Length</th>\n",
       "    </tr>\n",
       "  </thead>\n",
       "  <tbody>\n",
       "    <tr>\n",
       "      <th>count</th>\n",
       "      <td>1.782091e+06</td>\n",
       "      <td>1.782091e+06</td>\n",
       "      <td>1.782091e+06</td>\n",
       "    </tr>\n",
       "    <tr>\n",
       "      <th>mean</th>\n",
       "      <td>8.298341e+07</td>\n",
       "      <td>8.298677e+07</td>\n",
       "      <td>3.365865e+03</td>\n",
       "    </tr>\n",
       "    <tr>\n",
       "      <th>std</th>\n",
       "      <td>5.501284e+07</td>\n",
       "      <td>5.501285e+07</td>\n",
       "      <td>5.754582e+04</td>\n",
       "    </tr>\n",
       "    <tr>\n",
       "      <th>min</th>\n",
       "      <td>1.246000e+04</td>\n",
       "      <td>1.488000e+04</td>\n",
       "      <td>5.000000e+01</td>\n",
       "    </tr>\n",
       "    <tr>\n",
       "      <th>25%</th>\n",
       "      <td>3.779975e+07</td>\n",
       "      <td>3.780309e+07</td>\n",
       "      <td>1.045000e+03</td>\n",
       "    </tr>\n",
       "    <tr>\n",
       "      <th>50%</th>\n",
       "      <td>7.605382e+07</td>\n",
       "      <td>7.605674e+07</td>\n",
       "      <td>1.842000e+03</td>\n",
       "    </tr>\n",
       "    <tr>\n",
       "      <th>75%</th>\n",
       "      <td>1.175245e+08</td>\n",
       "      <td>1.175278e+08</td>\n",
       "      <td>3.448000e+03</td>\n",
       "    </tr>\n",
       "    <tr>\n",
       "      <th>max</th>\n",
       "      <td>2.489382e+08</td>\n",
       "      <td>2.489394e+08</td>\n",
       "      <td>2.187312e+07</td>\n",
       "    </tr>\n",
       "  </tbody>\n",
       "</table>\n",
       "</div>"
      ],
      "text/plain": [
       "              Start           End        Length\n",
       "count  1.782091e+06  1.782091e+06  1.782091e+06\n",
       "mean   8.298341e+07  8.298677e+07  3.365865e+03\n",
       "std    5.501284e+07  5.501285e+07  5.754582e+04\n",
       "min    1.246000e+04  1.488000e+04  5.000000e+01\n",
       "25%    3.779975e+07  3.780309e+07  1.045000e+03\n",
       "50%    7.605382e+07  7.605674e+07  1.842000e+03\n",
       "75%    1.175245e+08  1.175278e+08  3.448000e+03\n",
       "max    2.489382e+08  2.489394e+08  2.187312e+07"
      ]
     },
     "execution_count": 10,
     "metadata": {},
     "output_type": "execute_result"
    }
   ],
   "source": [
    "NAT.describe()"
   ]
  },
  {
   "cell_type": "code",
   "execution_count": 11,
   "id": "0b706bb5",
   "metadata": {},
   "outputs": [
    {
     "name": "stdout",
     "output_type": "stream",
     "text": [
      "2578.3959916618887 3365.8648699757755\n"
     ]
    }
   ],
   "source": [
    "print(np.mean(TT.Length), np.mean(NAT.Length))"
   ]
  },
  {
   "cell_type": "code",
   "execution_count": 7,
   "id": "21c93caf",
   "metadata": {},
   "outputs": [],
   "source": [
    "TT['Length'] = np.log10(TT['Length'])\n",
    "NAT['Length'] = np.log10(NAT['Length'])"
   ]
  },
  {
   "cell_type": "code",
   "execution_count": 9,
   "id": "74563644",
   "metadata": {},
   "outputs": [
    {
     "data": {
      "text/plain": [
       "<Figure size 640x480 with 0 Axes>"
      ]
     },
     "metadata": {},
     "output_type": "display_data"
    },
    {
     "data": {
      "image/png": "[encoded data removed]",
      "text/plain": [
       "<Figure size 500x400 with 1 Axes>"
      ]
     },
     "metadata": {},
     "output_type": "display_data"
    }
   ],
   "source": [
    "plt.subplots_adjust(left=0.3, right=0.9, bottom=0.3, top=0.9);\n",
    "fig, ax = plt.subplots(1,1, figsize=(5,4)) ;\n",
    "plt.xlim(2,5)\n",
    "ax.spines['top'].set_visible(False)\n",
    "ax.spines['right'].set_visible(False)\n",
    "values_n, binsn,_ =plt.hist(NAT['Length'], color= \"#FF9900\", density=True, histtype='step',bins=400,\n",
    "                            facecolor= \"#FF9900\",fill = True, edgecolor= \"#FF9900\", alpha = 0.5)\n",
    "valuest, binst, _ =plt.hist(TT['Length'], color= \"#006699\", density=True, histtype='step',bins=400, facecolor=\"#006699\", \n",
    "          edgecolor=\"#006699\",fill=True, alpha=0.5)\n",
    "\n",
    "#ax =plt.hist(,bins = 100, log = True, color= \"#F49E30\",stacked=True)\n",
    "plt.ylabel(\"Frequency\")\n",
    "plt.xlabel(\"Size of eccDNA\")\n",
    "#plt.text(x=12000000, y=10000, s=txt)\n",
    "#plt.savefig('eccDNA/Figures/Sizedistribution_TT_NATgenes_July2024.pdf', dpi = 400, bbox_inches = 'tight')\n",
    "plt.show();"
   ]
  },
  {
   "cell_type": "code",
   "execution_count": 10,
   "id": "3e3cdccc",
   "metadata": {},
   "outputs": [
    {
     "data": {
      "text/html": [
       "<div>\n",
       "<style scoped>\n",
       "    .dataframe tbody tr th:only-of-type {\n",
       "        vertical-align: middle;\n",
       "    }\n",
       "\n",
       "    .dataframe tbody tr th {\n",
       "        vertical-align: top;\n",
       "    }\n",
       "\n",
       "    .dataframe thead th {\n",
       "        text-align: right;\n",
       "    }\n",
       "</style>\n",
       "<table border=\"1\" class=\"dataframe\">\n",
       "  <thead>\n",
       "    <tr style=\"text-align: right;\">\n",
       "      <th></th>\n",
       "      <th>Chromosome</th>\n",
       "      <th>Start</th>\n",
       "      <th>End</th>\n",
       "      <th>Length</th>\n",
       "      <th>Origin</th>\n",
       "    </tr>\n",
       "  </thead>\n",
       "  <tbody>\n",
       "    <tr>\n",
       "      <th>6399380</th>\n",
       "      <td>chr4</td>\n",
       "      <td>175023581</td>\n",
       "      <td>175023631</td>\n",
       "      <td>1.698970</td>\n",
       "      <td>CRCt-036</td>\n",
       "    </tr>\n",
       "    <tr>\n",
       "      <th>2497777</th>\n",
       "      <td>chr8</td>\n",
       "      <td>143302944</td>\n",
       "      <td>143302994</td>\n",
       "      <td>1.698970</td>\n",
       "      <td>CRCt-027</td>\n",
       "    </tr>\n",
       "    <tr>\n",
       "      <th>8968706</th>\n",
       "      <td>chr6</td>\n",
       "      <td>86613512</td>\n",
       "      <td>86613562</td>\n",
       "      <td>1.698970</td>\n",
       "      <td>CRCt-046</td>\n",
       "    </tr>\n",
       "    <tr>\n",
       "      <th>2298935</th>\n",
       "      <td>chr4</td>\n",
       "      <td>23140293</td>\n",
       "      <td>23140343</td>\n",
       "      <td>1.698970</td>\n",
       "      <td>CRCt-027</td>\n",
       "    </tr>\n",
       "    <tr>\n",
       "      <th>465196</th>\n",
       "      <td>chr17</td>\n",
       "      <td>72701868</td>\n",
       "      <td>72701918</td>\n",
       "      <td>1.698970</td>\n",
       "      <td>CRCt-021</td>\n",
       "    </tr>\n",
       "    <tr>\n",
       "      <th>...</th>\n",
       "      <td>...</td>\n",
       "      <td>...</td>\n",
       "      <td>...</td>\n",
       "      <td>...</td>\n",
       "      <td>...</td>\n",
       "    </tr>\n",
       "    <tr>\n",
       "      <th>4931379</th>\n",
       "      <td>chr16</td>\n",
       "      <td>3837345</td>\n",
       "      <td>31557242</td>\n",
       "      <td>7.442792</td>\n",
       "      <td>CRCt-033</td>\n",
       "    </tr>\n",
       "    <tr>\n",
       "      <th>2890651</th>\n",
       "      <td>chr5</td>\n",
       "      <td>55348246</td>\n",
       "      <td>83099895</td>\n",
       "      <td>7.443289</td>\n",
       "      <td>CRCt-028</td>\n",
       "    </tr>\n",
       "    <tr>\n",
       "      <th>3841501</th>\n",
       "      <td>chr7</td>\n",
       "      <td>52161518</td>\n",
       "      <td>81209799</td>\n",
       "      <td>7.463120</td>\n",
       "      <td>CRCt-030</td>\n",
       "    </tr>\n",
       "    <tr>\n",
       "      <th>334505</th>\n",
       "      <td>chr10</td>\n",
       "      <td>51440291</td>\n",
       "      <td>81323498</td>\n",
       "      <td>7.475427</td>\n",
       "      <td>CRCt-021</td>\n",
       "    </tr>\n",
       "    <tr>\n",
       "      <th>4741096</th>\n",
       "      <td>chr6</td>\n",
       "      <td>82692711</td>\n",
       "      <td>114524012</td>\n",
       "      <td>7.502854</td>\n",
       "      <td>CRCt-033</td>\n",
       "    </tr>\n",
       "  </tbody>\n",
       "</table>\n",
       "<p>12460376 rows × 5 columns</p>\n",
       "</div>"
      ],
      "text/plain": [
       "        Chromosome      Start        End    Length    Origin\n",
       "6399380       chr4  175023581  175023631  1.698970  CRCt-036\n",
       "2497777       chr8  143302944  143302994  1.698970  CRCt-027\n",
       "8968706       chr6   86613512   86613562  1.698970  CRCt-046\n",
       "2298935       chr4   23140293   23140343  1.698970  CRCt-027\n",
       "465196       chr17   72701868   72701918  1.698970  CRCt-021\n",
       "...            ...        ...        ...       ...       ...\n",
       "4931379      chr16    3837345   31557242  7.442792  CRCt-033\n",
       "2890651       chr5   55348246   83099895  7.443289  CRCt-028\n",
       "3841501       chr7   52161518   81209799  7.463120  CRCt-030\n",
       "334505       chr10   51440291   81323498  7.475427  CRCt-021\n",
       "4741096       chr6   82692711  114524012  7.502854  CRCt-033\n",
       "\n",
       "[12460376 rows x 5 columns]"
      ]
     },
     "execution_count": 10,
     "metadata": {},
     "output_type": "execute_result"
    }
   ],
   "source": [
    "TT"
   ]
  },
  {
   "cell_type": "code",
   "execution_count": 28,
   "id": "5fa32a39",
   "metadata": {},
   "outputs": [
    {
     "name": "stdout",
     "output_type": "stream",
     "text": [
      "0.9999999999999998 0.9999999999999988\n"
     ]
    }
   ],
   "source": [
    "print(sum(np.diff(binst)*valuest), sum(np.diff(binsn)*values_n))"
   ]
  },
  {
   "cell_type": "code",
   "execution_count": 21,
   "id": "d942e79f",
   "metadata": {},
   "outputs": [],
   "source": [
    "TT =np.diff(binst)*valuest"
   ]
  },
  {
   "cell_type": "code",
   "execution_count": 22,
   "id": "edcc2ebe",
   "metadata": {},
   "outputs": [],
   "source": [
    "NAT =np.diff(binsn)*values_n"
   ]
  },
  {
   "cell_type": "code",
   "execution_count": 23,
   "id": "b3d81fad",
   "metadata": {},
   "outputs": [],
   "source": [
    "from scipy.stats import mannwhitneyu"
   ]
  },
  {
   "cell_type": "code",
   "execution_count": 24,
   "id": "22815a11",
   "metadata": {},
   "outputs": [],
   "source": [
    "statistic, p_value = mannwhitneyu(TT,NAT)"
   ]
  },
  {
   "cell_type": "code",
   "execution_count": 25,
   "id": "63537a8d",
   "metadata": {},
   "outputs": [
    {
     "data": {
      "text/plain": [
       "0.020722120568501708"
      ]
     },
     "execution_count": 25,
     "metadata": {},
     "output_type": "execute_result"
    }
   ],
   "source": [
    "p_value"
   ]
  },
  {
   "cell_type": "code",
   "execution_count": null,
   "id": "352bbb77",
   "metadata": {},
   "outputs": [],
   "source": []
  }
 ],
 "metadata": {
  "kernelspec": {
   "display_name": "Python 3 (ipykernel)",
   "language": "python",
   "name": "python3"
  },
  "language_info": {
   "codemirror_mode": {
    "name": "ipython",
    "version": 3
   },
   "file_extension": ".py",
   "mimetype": "text/x-python",
   "name": "python",
   "nbconvert_exporter": "python",
   "pygments_lexer": "ipython3",
   "version": "3.11.5"
  }
 },
 "nbformat": 4,
 "nbformat_minor": 5
}
